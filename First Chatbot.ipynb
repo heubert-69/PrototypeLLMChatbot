{
 "cells": [
  {
   "cell_type": "code",
   "execution_count": null,
   "id": "b92520f7",
   "metadata": {},
   "outputs": [],
   "source": [
    "import panel as pn\n",
    "import openai as op\n",
    "#importing my api key\n",
    "op.api_key = \"YOUR-API-KEY\""
   ]
  },
  {
   "cell_type": "code",
   "execution_count": null,
   "id": "9bea9a96",
   "metadata": {},
   "outputs": [],
   "source": [
    "#my first personal made chatbot"
   ]
  },
  {
   "cell_type": "code",
   "execution_count": null,
   "id": "bbeded4f",
   "metadata": {},
   "outputs": [],
   "source": [
    "#receiving diffrent messages in conversations and call the openai to pass the full convo\n",
    "def ContinueConvo(message, temp=0):\n",
    "    resp = op.chat.completions.create(\n",
    "        model=\"gpt-4o-mini\",\n",
    "        messages=message,\n",
    "        temperature=temp,\n",
    "    )\n",
    "    return resp.choices[0].message.content"
   ]
  },
  {
   "cell_type": "code",
   "execution_count": null,
   "id": "d0a15ce7",
   "metadata": {},
   "outputs": [],
   "source": [
    "def AddPromptsInConvo(_):\n",
    "    #getting the prompt from the user\n",
    "    prompt = client_prompt.value_input\n",
    "    client_prompt.value = ''\n",
    "    \n",
    "    #append the context of the user prompt\n",
    "    context.append({\"role\":\"user\", \"content\":f\"{prompt}\"})\n",
    "    \n",
    "    response = ContinueConvo(context)\n",
    "    \n",
    "    #add response to the context\n",
    "    context.append({\"role\":\"assistant\", \"content\":f\"{response}\"})\n",
    "    \n",
    "    panels.append(pn.Row(\"User\", pn.pane.Markdown(prompt, width=600)))\n",
    "    panels.append(pn.Row(\"Assistant\", pn.pane.Markdown(response, width=600)))\n",
    "    \n",
    "    return pn.Column(*panels)"
   ]
  },
  {
   "cell_type": "code",
   "execution_count": null,
   "id": "33d83e9b",
   "metadata": {
    "scrolled": true
   },
   "outputs": [],
   "source": [
    "context = [ {'role':'system', 'content':\"\"\"\n",
    "You work collecting orders in a delivery IceCream shop called\n",
    "I'm freezed.\n",
    "\n",
    "First welcome the customer, in a very friedly way, then collects the order.\n",
    "\n",
    "Your instuctions are:\n",
    "-Collect the entire order, only from options in our menu, toppings included.\n",
    "-Summarize it\n",
    "-check for a final time if everithing is ok or the customer wants to add anything else.\n",
    "-collect the payment, be sure to include topings and the size of the ice cream.\n",
    "-Make sure to clarify all options, extras and sizes to uniquely\n",
    "identify the item from the menu.\n",
    "-Your answer should be short in a very friendly style.\n",
    "\n",
    "Our Menu:\n",
    "The IceCream menu includes only the flavors:\n",
    "-Vainilla.\n",
    "-Chocolate.\n",
    "-Lemon.\n",
    "-Strawberry.\n",
    "-Coffe.\n",
    "\n",
    "The IceCreams are available in two sizes:\n",
    "-Big: 3$\n",
    "-Medium: 2$\n",
    "\n",
    "Toppings:\n",
    "-Caramel sausage\n",
    "-White chocolate\n",
    "-melted peanut butter\n",
    "Each topping cost 0.5$\n",
    "\n",
    "\"\"\"} ]\n",
    "\n",
    "pn.extension()\n",
    "\n",
    "panels = []\n",
    "\n",
    "client_prompt = pn.widgets.TextInput(value=\"Hello!\", placeholder=\"Enter Your Text Here: \")\n",
    "button_convo = pn.widgets.Button(name=\"talk\")\n",
    "\n",
    "interactive_convo = pn.bind(AddPromptsInConvo, button_convo)\n",
    "\n",
    "dashboard = pn.Column(\n",
    "    client_prompt,\n",
    "    pn.Row(button_convo),\n",
    "    pn.panel(interactive_convo, loading_indicator=True),\n",
    ")\n",
    "\n",
    "dashboard"
   ]
  }
 ],
 "metadata": {
  "kernelspec": {
   "display_name": "Python 3 (ipykernel)",
   "language": "python",
   "name": "python3"
  },
  "language_info": {
   "codemirror_mode": {
    "name": "ipython",
    "version": 3
   },
   "file_extension": ".py",
   "mimetype": "text/x-python",
   "name": "python",
   "nbconvert_exporter": "python",
   "pygments_lexer": "ipython3",
   "version": "3.12.3"
  }
 },
 "nbformat": 4,
 "nbformat_minor": 5
}
